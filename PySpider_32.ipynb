{
 "cells": [
  {
   "cell_type": "markdown",
   "metadata": {},
   "source": [
    "# 反爬：登入授權模擬\n",
    "\n",
    "* 了解「登入權限機制」的反爬蟲機制\n",
    "* 「登入權限機制」反爬蟲的因應策略"
   ]
  },
  {
   "cell_type": "markdown",
   "metadata": {},
   "source": [
    "## 作業目標\n",
    "\n",
    "* 找一個需要登入的網站試試看，並說明思考流程\n",
    "（如果不知道要用哪個網站的話，可以試試看 https://github.com/new 網址，未登入時會被導向登入頁）\n",
    "\n"
   ]
  },
  {
   "cell_type": "code",
   "execution_count": 1,
   "metadata": {},
   "outputs": [],
   "source": [
    "import requests\n",
    "import pandas as pd\n",
    "from bs4 import BeautifulSoup"
   ]
  },
  {
   "cell_type": "code",
   "execution_count": 4,
   "metadata": {},
   "outputs": [],
   "source": [
    "URL = 'https://www.ptt.cc/bbs/Gossiping/index.html'\n",
    "cook = {'over18':'1'}\n",
    "resp = requests.get(url=URL, cookies = cook)"
   ]
  },
  {
   "cell_type": "code",
   "execution_count": 5,
   "metadata": {},
   "outputs": [
    {
     "name": "stdout",
     "output_type": "stream",
     "text": [
      "[問卦] 為什麼美國研發疫苗這麼快?\n",
      "[問卦] 有沒有國際標準的八卦???\n",
      "Re: [爆卦] 新竹地區降雨目標達一半50mm啦！\n",
      "[問卦] 疫苗議題是不是等於防疫界的服貿？\n",
      "Re: [問卦] 單名一字{雲｝是好名字嗎？\n",
      "Re: [問卦] 娶到瑞莎和福原愛哪個比較好?\n",
      "Re: [新聞] 女大生裸拍連結假陽具感覺秒變 回頭見攝\n",
      "[問卦] 台股怎麼又回到萬七惹？！\n",
      "[問卦] 肥宅割自己的肉給正妹女同事吃有加分嗎\n",
      "Re: [新聞] 「只能政府對原廠」自打臉！曾收115萬劑\n",
      "[問卦] 作戰時三軍統帥不用到前線慰勞？\n",
      "[問卦] 高端如果跌停打開的話是不是有甚麼陰謀\n",
      "Re: [問卦] 夜雨剪春韭，新炊間黃粱 下句怎麼接好？\n",
      "[問卦] 高端疫苗股東打AZ的時候在想什麼？\n",
      "Re: [問卦] 每天的CDC記者會到底再幹嘛\n",
      "[公告] 八卦板板規(2021.05.11)\n",
      "[協尋] 內湖成美橋行車記錄0522上午11:40-12:00\n",
      "[協尋] 男 81歲 185cm 最後身影於日月潭 已找到人謝謝鄉民的幫忙\n",
      "[公告] 精華區新增2021武漢肺炎專區\n",
      "[爆卦] 有檢察官對於購買高端疫苗的透明性提出\n"
     ]
    }
   ],
   "source": [
    "soup = BeautifulSoup(markup=resp.text, features='html.parser')\n",
    "nodes = soup.select(selector = 'div.title a')\n",
    "for i in nodes:\n",
    "    print(i.text)"
   ]
  },
  {
   "cell_type": "code",
   "execution_count": null,
   "metadata": {},
   "outputs": [],
   "source": []
  }
 ],
 "metadata": {
  "kernelspec": {
   "display_name": "Python 3",
   "language": "python",
   "name": "python3"
  },
  "language_info": {
   "codemirror_mode": {
    "name": "ipython",
    "version": 3
   },
   "file_extension": ".py",
   "mimetype": "text/x-python",
   "name": "python",
   "nbconvert_exporter": "python",
   "pygments_lexer": "ipython3",
   "version": "3.7.7"
  }
 },
 "nbformat": 4,
 "nbformat_minor": 2
}
