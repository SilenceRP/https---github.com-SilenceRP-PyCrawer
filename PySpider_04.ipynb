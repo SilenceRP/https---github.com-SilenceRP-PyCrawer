{
 "cells": [
  {
   "cell_type": "markdown",
   "metadata": {},
   "source": [
    "# API 資料串接 - 以 Dcard API 實作範例\n",
    "\n",
    "* 了解 Dcard API 使用方式與回傳內容\n",
    "* 撰寫程式存取 API 且解析 JSON 格式資料\n"
   ]
  },
  {
   "cell_type": "markdown",
   "metadata": {},
   "source": [
    "## 作業目標\n",
    "\n",
    "* 請利用 API: https://www.dcard.tw/_api/forums/pet/posts?popular=true 回答下列問題：\n",
    "\n",
    "1. 這個 API 一次會回傳幾筆資料？每一筆資料包含哪些欄位？\n",
    "2. 取出每一筆資料的「標題」、「貼文時間」、「留言人數」、「按讚人數」\n",
    "3. 計算熱門/非熱門文章的「平均留言人數」與「平均按讚人數」"
   ]
  },
  {
   "cell_type": "code",
   "execution_count": 5,
   "metadata": {},
   "outputs": [],
   "source": [
    "import pandas as pd\n",
    "import requests\n",
    "import json"
   ]
  },
  {
   "cell_type": "code",
   "execution_count": 2,
   "metadata": {},
   "outputs": [],
   "source": [
    "URL = ' https://www.dcard.tw/_api/forums/pet/posts?popular=true'\n",
    "resp = requests.get(url=URL)"
   ]
  },
  {
   "cell_type": "code",
   "execution_count": 11,
   "metadata": {},
   "outputs": [],
   "source": [
    "dcard_df = pd.DataFrame(json.loads(resp.text))"
   ]
  },
  {
   "cell_type": "code",
   "execution_count": 13,
   "metadata": {},
   "outputs": [
    {
     "name": "stdout",
     "output_type": "stream",
     "text": [
      "(30, 39)\n",
      "Index(['id', 'title', 'excerpt', 'anonymousSchool', 'anonymousDepartment',\n",
      "       'pinned', 'forumId', 'replyId', 'createdAt', 'updatedAt',\n",
      "       'commentCount', 'likeCount', 'withNickname', 'tags', 'topics', 'meta',\n",
      "       'forumName', 'forumAlias', 'nsfw', 'gender', 'school', 'replyTitle',\n",
      "       'mediaMeta', 'reactions', 'hidden', 'customStyle',\n",
      "       'isSuspiciousAccount', 'isModerator', 'layout', 'spoilerAlert',\n",
      "       'withImages', 'withVideos', 'media', 'reportReasonText',\n",
      "       'excerptComments', 'postAvatar', 'verifiedBadge', 'memberType',\n",
      "       'department'],\n",
      "      dtype='object')\n"
     ]
    }
   ],
   "source": [
    "# 1. 這個 API 一次會回傳幾筆資料？每一筆資料包含哪些欄位？\n",
    "print(dcard_df.shape)\n",
    "# 30筆\n",
    "print(dcard_df.columns)"
   ]
  },
  {
   "cell_type": "code",
   "execution_count": 24,
   "metadata": {},
   "outputs": [
    {
     "data": {
      "text/html": [
       "<div>\n",
       "<style scoped>\n",
       "    .dataframe tbody tr th:only-of-type {\n",
       "        vertical-align: middle;\n",
       "    }\n",
       "\n",
       "    .dataframe tbody tr th {\n",
       "        vertical-align: top;\n",
       "    }\n",
       "\n",
       "    .dataframe thead th {\n",
       "        text-align: right;\n",
       "    }\n",
       "</style>\n",
       "<table border=\"1\" class=\"dataframe\">\n",
       "  <thead>\n",
       "    <tr style=\"text-align: right;\">\n",
       "      <th></th>\n",
       "      <th>spoilerAlert</th>\n",
       "      <th>withImages</th>\n",
       "      <th>withVideos</th>\n",
       "      <th>media</th>\n",
       "      <th>reportReasonText</th>\n",
       "      <th>excerptComments</th>\n",
       "      <th>postAvatar</th>\n",
       "      <th>verifiedBadge</th>\n",
       "      <th>memberType</th>\n",
       "      <th>department</th>\n",
       "    </tr>\n",
       "  </thead>\n",
       "  <tbody>\n",
       "    <tr>\n",
       "      <th>0</th>\n",
       "      <td>False</td>\n",
       "      <td>True</td>\n",
       "      <td>True</td>\n",
       "      <td>[{'url': 'https://i.imgur.com/G4H4CYK.jpg'}, {...</td>\n",
       "      <td></td>\n",
       "      <td>[]</td>\n",
       "      <td></td>\n",
       "      <td>False</td>\n",
       "      <td></td>\n",
       "      <td>NaN</td>\n",
       "    </tr>\n",
       "    <tr>\n",
       "      <th>1</th>\n",
       "      <td>False</td>\n",
       "      <td>True</td>\n",
       "      <td>False</td>\n",
       "      <td>[{'url': 'https://i.imgur.com/3CSn6LS.jpg'}, {...</td>\n",
       "      <td></td>\n",
       "      <td>[]</td>\n",
       "      <td></td>\n",
       "      <td>False</td>\n",
       "      <td></td>\n",
       "      <td>NaN</td>\n",
       "    </tr>\n",
       "    <tr>\n",
       "      <th>2</th>\n",
       "      <td>False</td>\n",
       "      <td>True</td>\n",
       "      <td>False</td>\n",
       "      <td>[{'url': 'https://i.imgur.com/V0aYAbh.jpg'}, {...</td>\n",
       "      <td></td>\n",
       "      <td>[]</td>\n",
       "      <td></td>\n",
       "      <td>False</td>\n",
       "      <td></td>\n",
       "      <td>mylittle.hana</td>\n",
       "    </tr>\n",
       "    <tr>\n",
       "      <th>3</th>\n",
       "      <td>False</td>\n",
       "      <td>True</td>\n",
       "      <td>True</td>\n",
       "      <td>[{'url': 'https://vivid.dcard.tw/Public/fd1eae...</td>\n",
       "      <td></td>\n",
       "      <td>[]</td>\n",
       "      <td></td>\n",
       "      <td>False</td>\n",
       "      <td></td>\n",
       "      <td>r_po0608</td>\n",
       "    </tr>\n",
       "    <tr>\n",
       "      <th>4</th>\n",
       "      <td>False</td>\n",
       "      <td>True</td>\n",
       "      <td>False</td>\n",
       "      <td>[{'url': 'https://i.imgur.com/zu1O1Yx.jpg'}, {...</td>\n",
       "      <td></td>\n",
       "      <td>[]</td>\n",
       "      <td></td>\n",
       "      <td>False</td>\n",
       "      <td></td>\n",
       "      <td>tamader_lulu</td>\n",
       "    </tr>\n",
       "  </tbody>\n",
       "</table>\n",
       "</div>"
      ],
      "text/plain": [
       "   spoilerAlert  withImages  withVideos  \\\n",
       "0         False        True        True   \n",
       "1         False        True       False   \n",
       "2         False        True       False   \n",
       "3         False        True        True   \n",
       "4         False        True       False   \n",
       "\n",
       "                                               media reportReasonText  \\\n",
       "0  [{'url': 'https://i.imgur.com/G4H4CYK.jpg'}, {...                    \n",
       "1  [{'url': 'https://i.imgur.com/3CSn6LS.jpg'}, {...                    \n",
       "2  [{'url': 'https://i.imgur.com/V0aYAbh.jpg'}, {...                    \n",
       "3  [{'url': 'https://vivid.dcard.tw/Public/fd1eae...                    \n",
       "4  [{'url': 'https://i.imgur.com/zu1O1Yx.jpg'}, {...                    \n",
       "\n",
       "  excerptComments postAvatar  verifiedBadge memberType     department  \n",
       "0              []                     False                       NaN  \n",
       "1              []                     False                       NaN  \n",
       "2              []                     False             mylittle.hana  \n",
       "3              []                     False                  r_po0608  \n",
       "4              []                     False              tamader_lulu  "
      ]
     },
     "execution_count": 24,
     "metadata": {},
     "output_type": "execute_result"
    }
   ],
   "source": [
    "dcard_df[['spoilerAlert',\n",
    "       'withImages', 'withVideos', 'media', 'reportReasonText',\n",
    "       'excerptComments', 'postAvatar', 'verifiedBadge', 'memberType',\n",
    "       'department']].head()"
   ]
  },
  {
   "cell_type": "code",
   "execution_count": 18,
   "metadata": {},
   "outputs": [
    {
     "name": "stdout",
     "output_type": "stream",
     "text": [
      "0         我居家防疫了三年⋯⋯\n",
      "1      請問玳瑁真的會比較親人嗎？\n",
      "2             剛起床的貓貓\n",
      "3    經過醫生檢查，這隻貓有影帝靈魂\n",
      "4             我的新同事😳\n",
      "Name: title, dtype: object\n",
      "0    2021-05-22T04:57:50.926Z\n",
      "1    2021-05-22T03:11:07.885Z\n",
      "2    2021-05-22T00:37:48.295Z\n",
      "3    2021-05-22T03:40:18.239Z\n",
      "4    2021-05-22T13:45:28.999Z\n",
      "Name: createdAt, dtype: object\n",
      "0    75\n",
      "1    42\n",
      "2     7\n",
      "3    22\n",
      "4     9\n",
      "Name: commentCount, dtype: int64\n",
      "0    1720\n",
      "1     276\n",
      "2     245\n",
      "3     185\n",
      "4     168\n",
      "Name: likeCount, dtype: int64\n"
     ]
    }
   ],
   "source": [
    "# 2. 取出每一筆資料的「標題」、「貼文時間」、「留言人數」、「按讚人數」\n",
    "\n",
    "print(dcard_df['title'].head())\n",
    "print(dcard_df['createdAt'].head())\n",
    "print(dcard_df['commentCount'].head())\n",
    "print(dcard_df['likeCount'].head())"
   ]
  },
  {
   "cell_type": "code",
   "execution_count": 28,
   "metadata": {},
   "outputs": [
    {
     "name": "stdout",
     "output_type": "stream",
     "text": [
      "11\n",
      "127\n"
     ]
    }
   ],
   "source": [
    "# 3. 計算熱門/非熱門文章的「平均留言人數」與「平均按讚人數」\n",
    "\n",
    "print(int(dcard_df['commentCount'].mean()))\n",
    "print(int(dcard_df['likeCount'].mean()))"
   ]
  },
  {
   "cell_type": "code",
   "execution_count": null,
   "metadata": {},
   "outputs": [],
   "source": []
  }
 ],
 "metadata": {
  "kernelspec": {
   "display_name": "Python 3",
   "language": "python",
   "name": "python3"
  },
  "language_info": {
   "codemirror_mode": {
    "name": "ipython",
    "version": 3
   },
   "file_extension": ".py",
   "mimetype": "text/x-python",
   "name": "python",
   "nbconvert_exporter": "python",
   "pygments_lexer": "ipython3",
   "version": "3.7.7"
  }
 },
 "nbformat": 4,
 "nbformat_minor": 2
}
