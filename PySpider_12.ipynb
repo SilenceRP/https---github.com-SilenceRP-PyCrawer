{
 "cells": [
  {
   "cell_type": "markdown",
   "metadata": {},
   "source": [
    "# PTT 網路爬蟲實作練習\n",
    "\n",
    "\n",
    "* 能夠利用 Request + BeatifulSour 撰寫爬蟲，並存放到合適的資料結構\n"
   ]
  },
  {
   "cell_type": "markdown",
   "metadata": {},
   "source": [
    "## 作業目標\n",
    "\n",
    "根據範例 ，完成以下問題：\n",
    "\n",
    "* ① 印出最新文章的「作者」「標題」「時間」\n",
    "* ② 印出第一頁所有文章的「作者」「標題」「時間」\n"
   ]
  },
  {
   "cell_type": "markdown",
   "metadata": {},
   "source": [
    "### ① 印出最新文章的「作者」「標題」「時間」"
   ]
  },
  {
   "cell_type": "code",
   "execution_count": 1,
   "metadata": {},
   "outputs": [],
   "source": [
    "import pandas as pd\n",
    "import requests\n",
    "from bs4 import BeautifulSoup"
   ]
  },
  {
   "cell_type": "code",
   "execution_count": 3,
   "metadata": {},
   "outputs": [],
   "source": [
    "URL = 'https://www.ptt.cc/bbs/NBA/index.html'\n",
    "resp = requests.get(url=URL)"
   ]
  },
  {
   "cell_type": "code",
   "execution_count": 14,
   "metadata": {},
   "outputs": [],
   "source": [
    "title = []\n",
    "date = []\n",
    "author = []\n",
    "\n",
    "soup = BeautifulSoup(markup=resp.text, features='html.parser')\n",
    "nodes = soup.select(selector = 'div.title a')\n",
    "for i in nodes:\n",
    "    title.append(i.text)\n",
    "\n",
    "nodes2 = soup.select(selector = 'div.date')\n",
    "for j in nodes2:\n",
    "    date.append(j.text)\n",
    "    \n",
    "nodes3 = soup.select(selector = 'div.author')\n",
    "for x in nodes3:\n",
    "    author.append(x.text)"
   ]
  },
  {
   "cell_type": "code",
   "execution_count": 16,
   "metadata": {},
   "outputs": [],
   "source": [
    "ptt = pd.DataFrame(zip(title, author, date), columns=['Title', 'Author', 'Date'])"
   ]
  },
  {
   "cell_type": "code",
   "execution_count": 17,
   "metadata": {},
   "outputs": [
    {
     "data": {
      "text/html": [
       "<div>\n",
       "<style scoped>\n",
       "    .dataframe tbody tr th:only-of-type {\n",
       "        vertical-align: middle;\n",
       "    }\n",
       "\n",
       "    .dataframe tbody tr th {\n",
       "        vertical-align: top;\n",
       "    }\n",
       "\n",
       "    .dataframe thead th {\n",
       "        text-align: right;\n",
       "    }\n",
       "</style>\n",
       "<table border=\"1\" class=\"dataframe\">\n",
       "  <thead>\n",
       "    <tr style=\"text-align: right;\">\n",
       "      <th></th>\n",
       "      <th>Title</th>\n",
       "      <th>Author</th>\n",
       "      <th>Date</th>\n",
       "    </tr>\n",
       "  </thead>\n",
       "  <tbody>\n",
       "    <tr>\n",
       "      <th>0</th>\n",
       "      <td>[花邊] Paul回應Vogel言論：我完全沒什麽要說的</td>\n",
       "      <td>adam7148</td>\n",
       "      <td>5/24</td>\n",
       "    </tr>\n",
       "    <tr>\n",
       "      <th>1</th>\n",
       "      <td>[花邊] 博揚：不清楚米切爾的情況，我們當然很想</td>\n",
       "      <td>GhostFather</td>\n",
       "      <td>5/24</td>\n",
       "    </tr>\n",
       "    <tr>\n",
       "      <th>2</th>\n",
       "      <td>[花邊] Dillon Brooks成為灰熊季後初登場最多分</td>\n",
       "      <td>willy911006</td>\n",
       "      <td>5/24</td>\n",
       "    </tr>\n",
       "    <tr>\n",
       "      <th>3</th>\n",
       "      <td>[公告] NBA 樂透開獎</td>\n",
       "      <td>[彩券]</td>\n",
       "      <td>5/24</td>\n",
       "    </tr>\n",
       "    <tr>\n",
       "      <th>4</th>\n",
       "      <td>[討論] 爵士是不是完美詮釋了跳投不能贏球</td>\n",
       "      <td>kevinduh4</td>\n",
       "      <td>5/24</td>\n",
       "    </tr>\n",
       "  </tbody>\n",
       "</table>\n",
       "</div>"
      ],
      "text/plain": [
       "                            Title       Author   Date\n",
       "0    [花邊] Paul回應Vogel言論：我完全沒什麽要說的     adam7148   5/24\n",
       "1        [花邊] 博揚：不清楚米切爾的情況，我們當然很想  GhostFather   5/24\n",
       "2  [花邊] Dillon Brooks成為灰熊季後初登場最多分  willy911006   5/24\n",
       "3                   [公告] NBA 樂透開獎         [彩券]   5/24\n",
       "4           [討論] 爵士是不是完美詮釋了跳投不能贏球    kevinduh4   5/24"
      ]
     },
     "execution_count": 17,
     "metadata": {},
     "output_type": "execute_result"
    }
   ],
   "source": [
    "ptt.head()"
   ]
  },
  {
   "cell_type": "markdown",
   "metadata": {},
   "source": [
    "### ② 印出第一頁所有文章的「作者」「標題」「時間」"
   ]
  },
  {
   "cell_type": "code",
   "execution_count": 21,
   "metadata": {},
   "outputs": [],
   "source": [
    "URL = 'https://www.ptt.cc/bbs/NBA/index1.html'\n",
    "resp = requests.get(url=URL)\n",
    "\n",
    "title = []\n",
    "date = []\n",
    "author = []\n",
    "\n",
    "soup = BeautifulSoup(markup=resp.text, features='html.parser')\n",
    "nodes = soup.select(selector = 'div.title a')\n",
    "for i in nodes:\n",
    "    title.append(i.text)\n",
    "\n",
    "nodes2 = soup.select(selector = 'div.date')\n",
    "for j in nodes2:\n",
    "    date.append(j.text)\n",
    "    \n",
    "nodes3 = soup.select(selector = 'div.author')\n",
    "for x in nodes3:\n",
    "    author.append(x.text)"
   ]
  },
  {
   "cell_type": "code",
   "execution_count": 24,
   "metadata": {},
   "outputs": [
    {
     "data": {
      "text/html": [
       "<div>\n",
       "<style scoped>\n",
       "    .dataframe tbody tr th:only-of-type {\n",
       "        vertical-align: middle;\n",
       "    }\n",
       "\n",
       "    .dataframe tbody tr th {\n",
       "        vertical-align: top;\n",
       "    }\n",
       "\n",
       "    .dataframe thead th {\n",
       "        text-align: right;\n",
       "    }\n",
       "</style>\n",
       "<table border=\"1\" class=\"dataframe\">\n",
       "  <thead>\n",
       "    <tr style=\"text-align: right;\">\n",
       "      <th></th>\n",
       "      <th>Title</th>\n",
       "      <th>Author</th>\n",
       "      <th>Date</th>\n",
       "    </tr>\n",
       "  </thead>\n",
       "  <tbody>\n",
       "    <tr>\n",
       "      <th>0</th>\n",
       "      <td>[轉錄]Lyotard 對於太陽板討論串的結論</td>\n",
       "      <td>Price</td>\n",
       "      <td>5/16</td>\n",
       "    </tr>\n",
       "    <tr>\n",
       "      <th>1</th>\n",
       "      <td>[公告] 請停止一切關於本次活動的發言</td>\n",
       "      <td>Price</td>\n",
       "      <td>5/31</td>\n",
       "    </tr>\n",
       "    <tr>\n",
       "      <th>2</th>\n",
       "      <td>[轉錄]跟之前那篇比起來 我覺得這篇也應該轉過來</td>\n",
       "      <td>Frankaze</td>\n",
       "      <td>6/08</td>\n",
       "    </tr>\n",
       "    <tr>\n",
       "      <th>3</th>\n",
       "      <td>[轉錄]再轉一篇好文來</td>\n",
       "      <td>Frankaze</td>\n",
       "      <td>6/08</td>\n",
       "    </tr>\n",
       "    <tr>\n",
       "      <th>4</th>\n",
       "      <td>[轉錄][情報] 夏洛特山貓系列</td>\n",
       "      <td>Price</td>\n",
       "      <td>6/10</td>\n",
       "    </tr>\n",
       "    <tr>\n",
       "      <th>5</th>\n",
       "      <td>[轉錄]Re: [心得] 真是受不了糗爺....</td>\n",
       "      <td>Price</td>\n",
       "      <td>6/10</td>\n",
       "    </tr>\n",
       "    <tr>\n",
       "      <th>6</th>\n",
       "      <td>[轉錄]總冠軍賽NO.2觀後感</td>\n",
       "      <td>Price</td>\n",
       "      <td>6/10</td>\n",
       "    </tr>\n",
       "    <tr>\n",
       "      <th>7</th>\n",
       "      <td>[心得] Rasheed Wallace</td>\n",
       "      <td>AmuroNamie</td>\n",
       "      <td>6/11</td>\n",
       "    </tr>\n",
       "    <tr>\n",
       "      <th>8</th>\n",
       "      <td>掌控球賽的男人</td>\n",
       "      <td>toptree</td>\n",
       "      <td>6/12</td>\n",
       "    </tr>\n",
       "    <tr>\n",
       "      <th>9</th>\n",
       "      <td>[閒聊] 說說2004季後賽名場面回顧</td>\n",
       "      <td>skchang</td>\n",
       "      <td>6/12</td>\n",
       "    </tr>\n",
       "    <tr>\n",
       "      <th>10</th>\n",
       "      <td>[心得] 其實說穿了 就是活塞的防守太可怕了</td>\n",
       "      <td>shineup</td>\n",
       "      <td>6/12</td>\n",
       "    </tr>\n",
       "    <tr>\n",
       "      <th>11</th>\n",
       "      <td>Re: [閒聊] 說說2004季後賽名場面回顧</td>\n",
       "      <td>cOvi</td>\n",
       "      <td>6/12</td>\n",
       "    </tr>\n",
       "    <tr>\n",
       "      <th>12</th>\n",
       "      <td>Re: [閒聊] 說說2004季後賽名場面回顧</td>\n",
       "      <td>ykshih</td>\n",
       "      <td>6/12</td>\n",
       "    </tr>\n",
       "    <tr>\n",
       "      <th>13</th>\n",
       "      <td>Re: [閒聊] 說說2004季後賽名場面回顧</td>\n",
       "      <td>Frankaze</td>\n",
       "      <td>6/12</td>\n",
       "    </tr>\n",
       "    <tr>\n",
       "      <th>14</th>\n",
       "      <td>[轉錄]Re: 總冠軍賽NO.3觀後感</td>\n",
       "      <td>Price</td>\n",
       "      <td>6/14</td>\n",
       "    </tr>\n",
       "    <tr>\n",
       "      <th>15</th>\n",
       "      <td>[轉錄]Re: 總冠軍賽NO.3觀後感</td>\n",
       "      <td>Frankaze</td>\n",
       "      <td>6/14</td>\n",
       "    </tr>\n",
       "    <tr>\n",
       "      <th>16</th>\n",
       "      <td>Re: [轉錄]Re: 總冠軍賽NO.3觀後感</td>\n",
       "      <td>star1</td>\n",
       "      <td>6/14</td>\n",
       "    </tr>\n",
       "    <tr>\n",
       "      <th>17</th>\n",
       "      <td>Re: [轉錄]Re: 總冠軍賽NO.3觀後感</td>\n",
       "      <td>coldspring</td>\n",
       "      <td>6/14</td>\n",
       "    </tr>\n",
       "    <tr>\n",
       "      <th>18</th>\n",
       "      <td>Re: Kobe is frustrated...</td>\n",
       "      <td>airbear</td>\n",
       "      <td>6/14</td>\n",
       "    </tr>\n",
       "    <tr>\n",
       "      <th>19</th>\n",
       "      <td>Re: [轉錄]Re: 總冠軍賽NO.3觀後感</td>\n",
       "      <td>pennykidd</td>\n",
       "      <td>6/14</td>\n",
       "    </tr>\n",
       "  </tbody>\n",
       "</table>\n",
       "</div>"
      ],
      "text/plain": [
       "                        Title      Author   Date\n",
       "0     [轉錄]Lyotard 對於太陽板討論串的結論       Price   5/16\n",
       "1         [公告] 請停止一切關於本次活動的發言       Price   5/31\n",
       "2    [轉錄]跟之前那篇比起來 我覺得這篇也應該轉過來    Frankaze   6/08\n",
       "3                 [轉錄]再轉一篇好文來    Frankaze   6/08\n",
       "4            [轉錄][情報] 夏洛特山貓系列       Price   6/10\n",
       "5    [轉錄]Re: [心得] 真是受不了糗爺....       Price   6/10\n",
       "6             [轉錄]總冠軍賽NO.2觀後感       Price   6/10\n",
       "7        [心得] Rasheed Wallace  AmuroNamie   6/11\n",
       "8                     掌控球賽的男人     toptree   6/12\n",
       "9         [閒聊] 說說2004季後賽名場面回顧     skchang   6/12\n",
       "10     [心得] 其實說穿了 就是活塞的防守太可怕了     shineup   6/12\n",
       "11    Re: [閒聊] 說說2004季後賽名場面回顧        cOvi   6/12\n",
       "12    Re: [閒聊] 說說2004季後賽名場面回顧      ykshih   6/12\n",
       "13    Re: [閒聊] 說說2004季後賽名場面回顧    Frankaze   6/12\n",
       "14        [轉錄]Re: 總冠軍賽NO.3觀後感       Price   6/14\n",
       "15        [轉錄]Re: 總冠軍賽NO.3觀後感    Frankaze   6/14\n",
       "16    Re: [轉錄]Re: 總冠軍賽NO.3觀後感       star1   6/14\n",
       "17    Re: [轉錄]Re: 總冠軍賽NO.3觀後感  coldspring   6/14\n",
       "18  Re: Kobe is frustrated...     airbear   6/14\n",
       "19    Re: [轉錄]Re: 總冠軍賽NO.3觀後感   pennykidd   6/14"
      ]
     },
     "execution_count": 24,
     "metadata": {},
     "output_type": "execute_result"
    }
   ],
   "source": [
    "pd.DataFrame(zip(title, author, date), columns=['Title', 'Author', 'Date'])"
   ]
  },
  {
   "cell_type": "markdown",
   "metadata": {},
   "source": [
    "### ③ 試著爬爬看其他版的文章"
   ]
  },
  {
   "cell_type": "code",
   "execution_count": 25,
   "metadata": {},
   "outputs": [],
   "source": [
    "URL = 'https://www.ptt.cc/bbs/joke/index.html'\n",
    "resp = requests.get(url = URL)"
   ]
  },
  {
   "cell_type": "code",
   "execution_count": 27,
   "metadata": {},
   "outputs": [
    {
     "name": "stdout",
     "output_type": "stream",
     "text": [
      "[耍冷] 最有情調的老二\n",
      "[耍冷] 推特上在夯什麼 Part.502\n",
      "[猜謎] 為什麼關公復活沒人採訪他\n",
      "Re: [耍冷] 最有情調的老二\n",
      "[趣圖] 有趣分享集（5-24）\n",
      "[耍冷] 你剛剛那是什麼move阿？\n",
      "[趣圖] 佩佩豬跟同學去動物園\n",
      "[猜謎] 胸部最大的動物是?\n",
      "[公告] joke板規（2021/05/20 更新）\n",
      "[閒聊] 就可溫馨置底閒聊列車\n"
     ]
    }
   ],
   "source": [
    "soup = BeautifulSoup(markup=resp.text, features='html.parser')\n",
    "nodes = soup.select(selector = 'div.title a')\n",
    "for i in nodes:\n",
    "    print(i.text)"
   ]
  },
  {
   "cell_type": "code",
   "execution_count": null,
   "metadata": {},
   "outputs": [],
   "source": []
  }
 ],
 "metadata": {
  "kernelspec": {
   "display_name": "Python 3",
   "language": "python",
   "name": "python3"
  },
  "language_info": {
   "codemirror_mode": {
    "name": "ipython",
    "version": 3
   },
   "file_extension": ".py",
   "mimetype": "text/x-python",
   "name": "python",
   "nbconvert_exporter": "python",
   "pygments_lexer": "ipython3",
   "version": "3.7.7"
  }
 },
 "nbformat": 4,
 "nbformat_minor": 2
}
