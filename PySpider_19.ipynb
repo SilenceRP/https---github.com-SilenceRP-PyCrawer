{
 "cells": [
  {
   "cell_type": "markdown",
   "metadata": {},
   "source": [
    "# 動態網頁爬蟲 - API Request\n",
    "\n",
    "* 了解 API Request 用於動態網頁爬蟲的原理\n",
    "* 能夠使用 API Request 撰寫動態網頁爬蟲\n",
    "\n",
    "\n",
    "\n",
    "\n"
   ]
  },
  {
   "cell_type": "markdown",
   "metadata": {},
   "source": [
    "## 作業目標\n",
    "\n",
    "* 根據範例的教學，去找出 Dcard 中呼叫的 API 當中，有一個跟「取得所有看板」是哪一個？並且利用 Requests 呼叫。\n"
   ]
  },
  {
   "cell_type": "markdown",
   "metadata": {},
   "source": [
    "* 請附上截圖：_______\n",
    "\n",
    "![]()"
   ]
  },
  {
   "cell_type": "code",
   "execution_count": 1,
   "metadata": {},
   "outputs": [],
   "source": [
    "import requests\n",
    "from bs4 import BeautifulSoup"
   ]
  },
  {
   "cell_type": "code",
   "execution_count": 2,
   "metadata": {},
   "outputs": [],
   "source": [
    "URL = 'https://www.dcard.tw/forum/all'\n",
    "resp = requests.get(url=URL)"
   ]
  },
  {
   "cell_type": "code",
   "execution_count": 4,
   "metadata": {},
   "outputs": [
    {
     "name": "stdout",
     "output_type": "stream",
     "text": [
      "📢 最新看板 - 防疫生活 | 魔物獵人\n",
      "💄 美容保養 - 美妝 | 醫美 | 生理用品\n",
      "👚️ 穿搭時尚 - 穿搭 | 香氛 | 僞娘\n",
      "🛍️ 購物支付 - 網購 | 省錢 | 超商\n",
      "💗️ 感情生活 - 女孩 | 感情 | 結婚\n",
      "🔮 星座占卜 - 星座 | 塔羅 | 水晶礦石\n",
      "🌈️ LGBTQ -  Les | 彩虹 | 跨性別\n",
      "🗣️ 閒聊心情 - 問答 | 結婚 | 心情\n",
      "😄️ 有趣笑話 - 梗圖 | 笑話 | 心情\n",
      "📰️ 議題時事 - 時事 | COVID-19 | 防疫生活\n",
      "📅️ 期間限定\n",
      "🎵️ 音樂相關 - 嘻哈 | 獨立音樂 | 音樂活動\n",
      "💿️ 影音娛樂 - 電影 | 戲劇綜藝 | Netflix\n",
      "🎙️ 偶像明星 - 韓星 | BTS | YouTuber\n",
      "🎨️ 藝術設計 - 手作 | 文具 | 建築\n",
      "🍷️ 生活品味 - 烹飪 | 芳療 | 居家生活\n",
      "👜 收藏精品 - 精品 | 香氛 | 品酒\n",
      "🐈️ 寵物植物 - 寵物 | 曬貓 | 爬蟲\n",
      "🍴️ 吃遍美食 - 美食 | 烹飪 | 手搖\n",
      "✈️️ 海外生活 - 留學 | 海外工作 | 歐洲生活\n",
      "🧳 旅遊攝影 - 航空 | 攝影 | 鐵道\n",
      "🇯🇵 日本 - 日劇 | 日本明星 | 日本生活\n",
      "🇰🇷 韓國 - 韓星 | 韓綜 | 韓國留學\n",
      "🎮️ 遊戲相關 - LOL | \bAPEX | 西斯遊戲\n",
      "🎬️ 休閒娛樂 - 電影 | 中職 | 單車\n",
      "🍖 動漫卡通 - 動漫 | 百合 | 迪士尼\n",
      "📱 3C 產品 - 3C | Apple | Google\n",
      "📡 科技科學 - 科學 | 科技業 | 軟體工程師\n",
      "💳️ 金融財務 - 會計 | 省錢 | 信用卡\n",
      "🚗️ 交通運輸 - 重機 | 汽機車 | 行車記錄器\n",
      "👟 體育健身 - 減肥 | 籃球 | 中職\n",
      "🏥️ 醫療保健 - 醫美 | 生理用品 | 牙齒矯正\n",
      "🏢 工作相關 - 軍旅 | 打工 | 法律人\n",
      "🏫️ 學生相關 - 考試 | 語言 | 研究所\n",
      "📖️ 閱讀寫作 - 小說 | 書籍 | 西斯文學\n",
      "👻️ 神祕領域 - 靈異 | 星座 | 塔羅\n",
      "🏙 地區看板 - 台中 | 台南｜新竹\n",
      "🕛 Dcard - 官方公告 | 建議回饋\n",
      "🔞 NSFW - 西斯 | 表特 | 色情漫畫\n",
      "📜 學校看板 - 北部\n",
      "📜 學校看板 - 東部｜外島\n",
      "📜 學校看板 - 中部\n",
      "📜 學校看板 - 南部\n"
     ]
    }
   ],
   "source": [
    "soup = BeautifulSoup(markup=resp.text, features='html.parser')\n",
    "nodes = soup.select(selector = 'div h3')\n",
    "for i in nodes:\n",
    "    print(i.text)"
   ]
  },
  {
   "cell_type": "code",
   "execution_count": null,
   "metadata": {},
   "outputs": [],
   "source": []
  }
 ],
 "metadata": {
  "kernelspec": {
   "display_name": "Python 3",
   "language": "python",
   "name": "python3"
  },
  "language_info": {
   "codemirror_mode": {
    "name": "ipython",
    "version": 3
   },
   "file_extension": ".py",
   "mimetype": "text/x-python",
   "name": "python",
   "nbconvert_exporter": "python",
   "pygments_lexer": "ipython3",
   "version": "3.7.7"
  }
 },
 "nbformat": 4,
 "nbformat_minor": 2
}
