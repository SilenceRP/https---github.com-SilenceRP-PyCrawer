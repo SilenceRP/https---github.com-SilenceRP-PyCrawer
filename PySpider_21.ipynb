{
 "cells": [
  {
   "cell_type": "markdown",
   "metadata": {},
   "source": [
    "# 動態網頁爬蟲 - 使用 Selenium\n",
    "\n",
    "* 了解 Selenium 用於動態網頁爬蟲的原理\n",
    "* 能夠使用 Selenium 撰寫動態網頁爬蟲"
   ]
  },
  {
   "cell_type": "markdown",
   "metadata": {},
   "source": [
    "## 作業目標\n",
    "\n",
    "* 1. 根據範例使用 selenuim 取出 Hahow 網站中所有課程的資料，並用一個適合的資料結構儲存（Hint: 將所有資料存在一個變數當中取出）\n",
    "* 2. 剛剛的做法只能取出第一頁，試著取出所有頁面的資料。\n",
    "\n"
   ]
  },
  {
   "cell_type": "markdown",
   "metadata": {},
   "source": [
    "### 1. 根據範例使用 selenuim 取出 Hahow 網站中所有課程的資料，並用一個適合的資料結構儲存（Hint: 將所有資料存在一個變數當中取出）"
   ]
  },
  {
   "cell_type": "code",
   "execution_count": 1,
   "metadata": {},
   "outputs": [],
   "source": [
    "from selenium import webdriver\n",
    "from bs4 import BeautifulSoup\n",
    "import pandas as pd"
   ]
  },
  {
   "cell_type": "code",
   "execution_count": 2,
   "metadata": {},
   "outputs": [],
   "source": [
    "URL = 'https://hahow.in/courses'\n",
    "driver = webdriver.Chrome(executable_path='C:/webdrivers/chromedriver.exe')\n",
    "driver.get(URL)"
   ]
  },
  {
   "cell_type": "code",
   "execution_count": 4,
   "metadata": {},
   "outputs": [],
   "source": [
    "content = []\n",
    "nodes = driver.find_elements_by_css_selector('div h4')\n",
    "for i in nodes:\n",
    "    content.append(i.text)"
   ]
  },
  {
   "cell_type": "code",
   "execution_count": 5,
   "metadata": {},
   "outputs": [
    {
     "data": {
      "text/plain": [
       "['高效居家訓練懶人包：妳的五週有感規劃',\n",
       " '跟著版塊做網站：用動態特效點滿視覺創意',\n",
       " 'Amber 生活日文課， 28 單元開啟自學之旅',\n",
       " '隨筆Q萌大頭貼，輕鬆畫出每一天',\n",
       " '藍諾導演攝影實戰課：12 步拍出故事感',\n",
       " '治療師不藏私：孕期到 2 歲感覺統合教養包',\n",
       " 'SV 科學歌唱｜用運動科學高效學唱歌',\n",
       " '需求讀心術：活用質性訪談與分析洞察人心',\n",
       " '職場英文大補帖｜銀行行員必備的英文口說',\n",
       " '跟著吳鳳接軌國際：有說有笑的英文聊天錦囊',\n",
       " '黛你做行銷-全方面蹲好行銷馬步',\n",
       " '凱蒂瑜珈與穎盈中醫師：養生療癒的經絡瑜珈',\n",
       " '從懷孕到產後：筋肉媽媽的孕婦運動指南',\n",
       " 'SEO 白話文：不懂程式也能學會的 SEO 秘密',\n",
       " '網紅經營術，自媒體攻略大揭密',\n",
       " '場景透視學，我選 Procreate！',\n",
       " '入門數據分析，掌握 Hive SQL 取數能力',\n",
       " '吳寶春冠軍麵包在家做，獨家配方大公開',\n",
       " '遙控 X 攝影：休伯特的戶外空拍運鏡指南',\n",
       " '零失敗！海頓媽媽的常溫甜點禮盒',\n",
       " '前進新貨幣戰國時代！央行數位貨幣 CBDC',\n",
       " '超現實影像創作 - PS 合成後製第二課',\n",
       " 'Notion 實戰課程：打造專屬數位工作術',\n",
       " '基礎戳繡 Punch needle．食繡植繡｜戳出療癒手感創作']"
      ]
     },
     "execution_count": 5,
     "metadata": {},
     "output_type": "execute_result"
    }
   ],
   "source": [
    "content"
   ]
  },
  {
   "cell_type": "markdown",
   "metadata": {},
   "source": [
    "### 2. 剛剛的做法只能取出第一頁，試著取出所有頁面的資料。"
   ]
  },
  {
   "cell_type": "code",
   "execution_count": 10,
   "metadata": {},
   "outputs": [],
   "source": [
    "driver = webdriver.Chrome(executable_path='C:/webdrivers/chromedriver.exe')"
   ]
  },
  {
   "cell_type": "code",
   "execution_count": 13,
   "metadata": {},
   "outputs": [],
   "source": [
    "import time"
   ]
  },
  {
   "cell_type": "code",
   "execution_count": 14,
   "metadata": {},
   "outputs": [],
   "source": [
    "content_all = []\n",
    "for i in range(1,6):\n",
    "    URL = 'https://hahow.in/courses?page={}'.format(i)\n",
    "    driver.get(URL)\n",
    "    time.sleep(5)\n",
    "    nodes = driver.find_elements_by_css_selector('div h4')\n",
    "    for i in nodes:\n",
    "        content_all.append(i.text)"
   ]
  },
  {
   "cell_type": "code",
   "execution_count": 16,
   "metadata": {},
   "outputs": [
    {
     "name": "stdout",
     "output_type": "stream",
     "text": [
      "['高效居家訓練懶人包：妳的五週有感規劃', '跟著版塊做網站：用動態特效點滿視覺創意', 'Amber 生活日文課， 28 單元開啟自學之旅', '隨筆Q萌大頭貼，輕鬆畫出每一天', '藍諾導演攝影實戰課：12 步拍出故事感', '治療師不藏私：孕期到 2 歲感覺統合教養包', 'SV 科學歌唱｜用運動科學高效學唱歌', '需求讀心術：活用質性訪談與分析洞察人心', '職場英文大補帖｜銀行行員必備的英文口說', '跟著吳鳳接軌國際：有說有笑的英文聊天錦囊', '黛你做行銷-全方面蹲好行銷馬步', '凱蒂瑜珈與穎盈中醫師：養生療癒的經絡瑜珈', '從懷孕到產後：筋肉媽媽的孕婦運動指南', 'SEO 白話文：不懂程式也能學會的 SEO 秘密', '網紅經營術，自媒體攻略大揭密', '場景透視學，我選 Procreate！', '入門數據分析，掌握 Hive SQL 取數能力', '吳寶春冠軍麵包在家做，獨家配方大公開', '遙控 X 攝影：休伯特的戶外空拍運鏡指南', '零失敗！海頓媽媽的常溫甜點禮盒', '前進新貨幣戰國時代！央行數位貨幣 CBDC', '超現實影像創作 - PS 合成後製第二課', 'Notion 實戰課程：打造專屬數位工作術', '基礎戳繡 Punch needle．食繡植繡｜戳出療癒手感創作', '小資必學財報課：輕鬆看懂台美股', '不寫程式的數據分析： Excel 商業分析實戰', '談情做愛養成班，與鄭家純相約深夜保健室見', '讓巴毛律師智財你！搞懂生活中的智慧財產權', '癌細胞 Bang！癌友有嘻哈的 20 堂抗癌課', '小冬瓜單程旅行社：規劃人生美好告別之旅', '性忘愛班導師上課囉！孫中興的毀三觀愛情學', 'DBA 訓練營 - SQL Server 資料庫管理入門', '擺脫職涯卡關！聚焦你的職場絕對優勢', 'Blender 初學全攻略 - 純手作療癒音樂盒！', '職場考場都必用！全方位的情境寫作術！', '美食攝影逐光旅行，餐桌上的四季光影', '擁抱山的知識：給登山者的十堂必修課', '靈感不枯竭！30 種方式提升內容創作力', 'SQL 的五十道練習：初學者友善的資料庫入門', '買房避雷術 - 預售屋新手攻略', '電商人妻 IG 增粉攻略！三大領域經營術', '風格實踐學：從內在到穿搭形塑獨特品味', '2021 驅動知識生態系論壇｜Hahow 好學校', '圖解表達力：用心智圖思維，簡化複雜問題', 'Data Studio 視覺化報表｜數據分析輕鬆上手', '紫微斗數 14 種命格原型，解讀你的生命地圖', '一小時能聽又能說！超實用泰語會話入門', '提問式職場領導力－專業提問者從你開始', '米薩小姐塔羅課，推開生命靈性之門', '漢克，我想跟你學畫畫：油性粉彩小筆記', '積木國王大黑白的積木教室｜創作台灣街景', '職場英文大補帖｜從社交心法到溝通金句', 'Java 工程師必備！Spring Boot 零基礎入門', '紙上御花園－初階水墨花卉探幽', '用戶x商業x數據 | UX‧三刀流產品體驗設計', '自學英語口說：提升英文流暢度的5大步驟', '拍一次就搞定！FB IG YT 通用的行銷影片', '說說立體刺繡花葉動物，交織裡的平衡韻律', '邏輯表達力-周震宇的口語邏輯優化課', '五星級法式經典甜點在家做', '掌握鉤針編織邏輯：五種針法自造生活小物', 'Python 推薦系統入門: 打造令人上癮的產品', '堯中人像攝影創作：掌握光影發掘人像質感', '日新麥克筆魔法：十支筆創造新視界－慕夏篇', '志祺的架構性思考：從資訊整理到觀點表達', 'PS 核心技法 | 調色技法完全講解篇', '҉唐鳳҉數位溝通社：就這樣把你增幅', '四叉貓網美談資社：美少女反串溝通愛心光波', '楊大正台語詞創社：咱就大力來寫著歌', '大支嘻哈研究社：饒舌饒出台灣味', '賴品妤 Cosplay 社：ㄘ我的二次元替身攻擊', '月月鳥昆蟲研究社：跟鄭運鵬變身甲蟲王', '單人也可佈光：有趣的 L 角佈燈術', '人氣喫茶店 KADOYA 主廚帶你做日式洋菓子', '你適合買房嗎？給居住焦慮世代的購屋指南', '發展無限的 iPodcast-揭開播客教練的獲利模式', '量價交易精隨：打造股票、期貨完美交易策略', '掌握關鍵數據，黃金、原油投資高勝率全攻略', '王梓沅的 3D 英文筆記術：打造最強「說」「寫」英語資料庫', '跟著阿麗學俄文 : 打造標準的俄語發音', '韓式擠花神手：韓國人金老師的擠花杯子蛋糕', '臺菜廚神阿發師的 12 堂課 - 辦桌菜輕鬆做', '跨國紙筆之旅：B6 速寫男帶你畫遍全世界', '說故事的 15 個秘密－基礎編劇實戰力', '侯吉諒書法講堂：從零開始，學寫一手好字', 'Python 行銷資料科學 ：基礎語法入門最前線', 'Unity 從零開始新手入門：2D 橫向捲軸遊戲', '品牌包裝設計學：從包裝建立最佳使用體驗', 'Today at Apple:和攝影師 Paddy 用 iPhone 拍出商業空間形象照', 'Today at Apple:和設計師馮宇拆解商業 LOGO 案例', 'Today at Apple:和攝影師 Ada Lin 用 iPhone 學習專業商品攝影', 'Python 資料分析：AI 機器學習入門到應用', '余惟的生活時尚攝影：拍出日常裡的封面人物', '雷浩斯價值投資：用質化分析找出價值成長股', '火頭工做麵包：與酵母共舞，設計專屬配方', '職場英文大補帖｜上班族的跨國會議必修課', '【生活裡的花與器】風格美感花藝選搭課', '數位轉型敲門磚，產業必學 AI 思維通識課', '揮別五音不全：威宇老師的音準訓練課', '一課思考學：你需要知道的一切，都在這一課', '這樣做設計思考更有用！UX 有感提案術', '創新先生瘋狂創造力：創造力思維與發想流程', '基礎情境練習課：建立你的英文文法邏輯腦', '藝用解剖學 2 - 凝望透視之眼 360 度全視野攻略', '新手能上手！居家健身，肌群練習一次到位', '婚禮企劃與主持入門課', '黃瑽寧的 10 堂育兒必修課全系列', '毛心潔的哺乳全攻略：觀念篇＋實作篇', '鄧惠文的關係心理學：親子篇', '10 堂課教出孩子的好情緒', '聽海苔熊「談」戀愛：剖析童話，療癒愛情', 'Python 進階課程：觀念、語法、專案、爬蟲', '龍師傅的台菜世界廚房', '萬用馭髮術全攻略 - 女神髮型養成班', '實境遊戲設計：打造好玩又有意義的情境體驗', '產品設計實戰：用Figma打造絕佳UI/UX', '許榮哲的故事課 - 三分鐘說 18 萬個故事', 'Rose 的色鉛筆插畫課 - 粉彩系午茶派對', '旅行攝影：按下快門，用攝影書寫故事', '占星之門安格斯｜十二宮位找出人生攻略']\n"
     ]
    }
   ],
   "source": [
    "print(content_all)"
   ]
  },
  {
   "cell_type": "code",
   "execution_count": null,
   "metadata": {},
   "outputs": [],
   "source": []
  }
 ],
 "metadata": {
  "kernelspec": {
   "display_name": "Python 3",
   "language": "python",
   "name": "python3"
  },
  "language_info": {
   "codemirror_mode": {
    "name": "ipython",
    "version": 3
   },
   "file_extension": ".py",
   "mimetype": "text/x-python",
   "name": "python",
   "nbconvert_exporter": "python",
   "pygments_lexer": "ipython3",
   "version": "3.7.7"
  }
 },
 "nbformat": 4,
 "nbformat_minor": 2
}
